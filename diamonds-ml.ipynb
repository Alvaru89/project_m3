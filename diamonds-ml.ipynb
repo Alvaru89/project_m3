{
 "cells": [
  {
   "cell_type": "code",
   "execution_count": 1,
   "metadata": {
    "_cell_guid": "b1076dfc-b9ad-4769-8c92-a6c4dae69d19",
    "_uuid": "8f2839f25d086af736a60e9eeb907d3b93b6e0e5"
   },
   "outputs": [
    {
     "name": "stdout",
     "output_type": "stream",
     "text": [
      "/kaggle/input/dapt202011mad/sample_submission.csv\n",
      "/kaggle/input/dapt202011mad/diamonds_test.csv\n",
      "/kaggle/input/dapt202011mad/diamonds_train.csv\n"
     ]
    }
   ],
   "source": [
    "# This Python 3 environment comes with many helpful analytics libraries installed\n",
    "# It is defined by the kaggle/python Docker image: https://github.com/kaggle/docker-python\n",
    "# For example, here's several helpful packages to load\n",
    "\n",
    "import numpy as np # linear algebra\n",
    "import pandas as pd # data processing, CSV file I/O (e.g. pd.read_csv)\n",
    "\n",
    "# Input data files are available in the read-only \"../input/\" directory\n",
    "# For example, running this (by clicking run or pressing Shift+Enter) will list all files under the input directory\n",
    "\n",
    "import os\n",
    "for dirname, _, filenames in os.walk('/kaggle/input'):\n",
    "    for filename in filenames:\n",
    "        print(os.path.join(dirname, filename))\n",
    "\n",
    "# You can write up to 20GB to the current directory (/kaggle/working/) that gets preserved as output when you create a version using \"Save & Run All\" \n",
    "# You can also write temporary files to /kaggle/temp/, but they won't be saved outside of the current session"
   ]
  },
  {
   "cell_type": "code",
   "execution_count": 2,
   "metadata": {},
   "outputs": [],
   "source": [
    "train = pd.read_csv('../input/dapt202011mad/diamonds_train.csv')\n",
    "test = pd.read_csv('../input/dapt202011mad/diamonds_test.csv')\n",
    "sample_sub = pd.read_csv('../input/dapt202011mad/sample_submission.csv')"
   ]
  },
  {
   "cell_type": "code",
   "execution_count": 3,
   "metadata": {},
   "outputs": [],
   "source": [
    "target = 'price'\n",
    "cat_features = ['cut', 'color', 'clarity']\n",
    "num_features = ['carat', 'depth', 'table', 'x', 'y', 'z']\n",
    "\n",
    "for cat_feat in cat_features:\n",
    "    train[cat_feat] = train[cat_feat].astype('category')\n",
    "    test[cat_feat] = test[cat_feat].astype('category')\n",
    "    \n",
    "# cat_df = pd.get_dummies(train[cat_features])\n",
    "# num_df = train.loc[:,num_features]\n",
    "# train_df = pd.concat([cat_df, num_df], axis=1)\n",
    "\n",
    "# cat_df = pd.get_dummies(test[cat_features])\n",
    "# num_df = test.loc[:,num_features]\n",
    "# test_df = pd.concat([cat_df, num_df], axis=1)\n",
    "\n",
    "\n",
    "# features = list(cat_df.columns) + list(num_df.columns)"
   ]
  },
  {
   "cell_type": "code",
   "execution_count": 4,
   "metadata": {},
   "outputs": [],
   "source": [
    "from sklearn.pipeline import Pipeline\n",
    "from sklearn.compose import ColumnTransformer\n",
    "from sklearn.impute import SimpleImputer\n",
    "from sklearn.preprocessing import StandardScaler\n",
    "from sklearn.preprocessing import OneHotEncoder, OrdinalEncoder\n"
   ]
  },
  {
   "cell_type": "code",
   "execution_count": 5,
   "metadata": {},
   "outputs": [],
   "source": [
    "numeric_transformer = \\\n",
    "Pipeline(steps=[('imputer', SimpleImputer(strategy='median')), \n",
    "                ('scaler', StandardScaler())])"
   ]
  },
  {
   "cell_type": "code",
   "execution_count": 6,
   "metadata": {},
   "outputs": [],
   "source": [
    "categorical_transformer = \\\n",
    "Pipeline(steps=[('imputer', SimpleImputer(strategy='constant', fill_value='missing')),\n",
    "                ('onehot', OneHotEncoder(handle_unknown='ignore'))])"
   ]
  },
  {
   "cell_type": "code",
   "execution_count": 7,
   "metadata": {},
   "outputs": [],
   "source": [
    "preprocessor = \\\n",
    "ColumnTransformer(transformers=[('num', numeric_transformer, num_features),\n",
    "                                ('cat', categorical_transformer, cat_features)])"
   ]
  },
  {
   "cell_type": "code",
   "execution_count": 8,
   "metadata": {},
   "outputs": [],
   "source": [
    "features=num_features+cat_features\n",
    "X=train[features]\n",
    "y=train[target]"
   ]
  },
  {
   "cell_type": "code",
   "execution_count": 26,
   "metadata": {},
   "outputs": [
    {
     "name": "stdout",
     "output_type": "stream",
     "text": [
      "model created!\n"
     ]
    }
   ],
   "source": [
    "from sklearn.linear_model import Lasso\n",
    "from sklearn.ensemble import RandomForestRegressor, GradientBoostingRegressor\n",
    "\n",
    "model= Pipeline(steps=[('preprocessor', preprocessor),\n",
    "                       ('regressor', GradientBoostingRegressor())])\n",
    "model.fit(X=X, y=y)\n",
    "print(\"model created!\")"
   ]
  },
  {
   "cell_type": "code",
   "execution_count": 24,
   "metadata": {},
   "outputs": [],
   "source": [
    "y_train = model.predict(X)"
   ]
  },
  {
   "cell_type": "markdown",
   "metadata": {},
   "source": [
    "# Metricas"
   ]
  },
  {
   "cell_type": "code",
   "execution_count": 11,
   "metadata": {},
   "outputs": [],
   "source": [
    "from sklearn.metrics import mean_squared_error"
   ]
  },
  {
   "cell_type": "code",
   "execution_count": 27,
   "metadata": {},
   "outputs": [
    {
     "name": "stdout",
     "output_type": "stream",
     "text": [
      "train error: 207.0260781966406\n"
     ]
    }
   ],
   "source": [
    "print(f\"train error: {mean_squared_error(y_pred=y_train, y_true=y, squared=False)}\")"
   ]
  },
  {
   "cell_type": "markdown",
   "metadata": {},
   "source": [
    "# Cross-Validation"
   ]
  },
  {
   "cell_type": "code",
   "execution_count": null,
   "metadata": {},
   "outputs": [],
   "source": [
    "from sklearn.model_selection import cross_val_score"
   ]
  },
  {
   "cell_type": "code",
   "execution_count": null,
   "metadata": {},
   "outputs": [],
   "source": [
    "scores = cross_val_score(model, \n",
    "                         X, \n",
    "                         y, \n",
    "                         scoring='neg_root_mean_squared_error', \n",
    "                         cv=10, verbose=2)\n",
    "np.mean(-scores)"
   ]
  },
  {
   "cell_type": "markdown",
   "metadata": {},
   "source": [
    "# Grid search"
   ]
  },
  {
   "cell_type": "code",
   "execution_count": 29,
   "metadata": {},
   "outputs": [],
   "source": [
    "from sklearn.model_selection import RandomizedSearchCV"
   ]
  },
  {
   "cell_type": "code",
   "execution_count": 42,
   "metadata": {},
   "outputs": [
    {
     "name": "stdout",
     "output_type": "stream",
     "text": [
      "Fitting 5 folds for each of 32 candidates, totalling 160 fits\n",
      "[CV] END preprocessor__num__imputer__strategy=mean, regressor__learning_rate=0.3, regressor__max_depth=16, regressor__min_samples_leaf=1, regressor__n_estimators=150, regressor__subsample=1; total time=  33.5s\n",
      "[CV] END preprocessor__num__imputer__strategy=mean, regressor__learning_rate=0.3, regressor__max_depth=16, regressor__min_samples_leaf=1, regressor__n_estimators=150, regressor__subsample=1; total time=  33.8s\n",
      "[CV] END preprocessor__num__imputer__strategy=mean, regressor__learning_rate=0.3, regressor__max_depth=16, regressor__min_samples_leaf=1, regressor__n_estimators=150, regressor__subsample=1; total time=  33.3s\n",
      "[CV] END preprocessor__num__imputer__strategy=mean, regressor__learning_rate=0.3, regressor__max_depth=16, regressor__min_samples_leaf=1, regressor__n_estimators=150, regressor__subsample=1; total time=  33.1s\n",
      "[CV] END preprocessor__num__imputer__strategy=mean, regressor__learning_rate=0.3, regressor__max_depth=16, regressor__min_samples_leaf=1, regressor__n_estimators=150, regressor__subsample=1; total time=  33.3s\n",
      "[CV] END preprocessor__num__imputer__strategy=mean, regressor__learning_rate=0.2, regressor__max_depth=16, regressor__min_samples_leaf=1, regressor__n_estimators=125, regressor__subsample=1; total time=  27.4s\n",
      "[CV] END preprocessor__num__imputer__strategy=mean, regressor__learning_rate=0.2, regressor__max_depth=16, regressor__min_samples_leaf=1, regressor__n_estimators=125, regressor__subsample=1; total time=  27.5s\n",
      "[CV] END preprocessor__num__imputer__strategy=mean, regressor__learning_rate=0.2, regressor__max_depth=16, regressor__min_samples_leaf=1, regressor__n_estimators=125, regressor__subsample=1; total time=  27.5s\n",
      "[CV] END preprocessor__num__imputer__strategy=mean, regressor__learning_rate=0.2, regressor__max_depth=16, regressor__min_samples_leaf=1, regressor__n_estimators=125, regressor__subsample=1; total time=  27.4s\n",
      "[CV] END preprocessor__num__imputer__strategy=mean, regressor__learning_rate=0.2, regressor__max_depth=16, regressor__min_samples_leaf=1, regressor__n_estimators=125, regressor__subsample=1; total time=  27.6s\n",
      "[CV] END preprocessor__num__imputer__strategy=mean, regressor__learning_rate=0.25, regressor__max_depth=4, regressor__min_samples_leaf=1, regressor__n_estimators=100, regressor__subsample=1; total time=   6.1s\n",
      "[CV] END preprocessor__num__imputer__strategy=mean, regressor__learning_rate=0.25, regressor__max_depth=4, regressor__min_samples_leaf=1, regressor__n_estimators=100, regressor__subsample=1; total time=   6.1s\n",
      "[CV] END preprocessor__num__imputer__strategy=mean, regressor__learning_rate=0.25, regressor__max_depth=4, regressor__min_samples_leaf=1, regressor__n_estimators=100, regressor__subsample=1; total time=   6.1s\n",
      "[CV] END preprocessor__num__imputer__strategy=mean, regressor__learning_rate=0.25, regressor__max_depth=4, regressor__min_samples_leaf=1, regressor__n_estimators=100, regressor__subsample=1; total time=   6.1s\n",
      "[CV] END preprocessor__num__imputer__strategy=mean, regressor__learning_rate=0.25, regressor__max_depth=4, regressor__min_samples_leaf=1, regressor__n_estimators=100, regressor__subsample=1; total time=   6.1s\n",
      "[CV] END preprocessor__num__imputer__strategy=mean, regressor__learning_rate=0.3, regressor__max_depth=4, regressor__min_samples_leaf=1, regressor__n_estimators=150, regressor__subsample=1; total time=   9.1s\n",
      "[CV] END preprocessor__num__imputer__strategy=mean, regressor__learning_rate=0.3, regressor__max_depth=4, regressor__min_samples_leaf=1, regressor__n_estimators=150, regressor__subsample=1; total time=   9.2s\n",
      "[CV] END preprocessor__num__imputer__strategy=mean, regressor__learning_rate=0.3, regressor__max_depth=4, regressor__min_samples_leaf=1, regressor__n_estimators=150, regressor__subsample=1; total time=   9.0s\n",
      "[CV] END preprocessor__num__imputer__strategy=mean, regressor__learning_rate=0.3, regressor__max_depth=4, regressor__min_samples_leaf=1, regressor__n_estimators=150, regressor__subsample=1; total time=   9.0s\n",
      "[CV] END preprocessor__num__imputer__strategy=mean, regressor__learning_rate=0.3, regressor__max_depth=4, regressor__min_samples_leaf=1, regressor__n_estimators=150, regressor__subsample=1; total time=   9.1s\n",
      "[CV] END preprocessor__num__imputer__strategy=mean, regressor__learning_rate=0.3, regressor__max_depth=8, regressor__min_samples_leaf=1, regressor__n_estimators=100, regressor__subsample=1; total time=  11.6s\n",
      "[CV] END preprocessor__num__imputer__strategy=mean, regressor__learning_rate=0.3, regressor__max_depth=8, regressor__min_samples_leaf=1, regressor__n_estimators=100, regressor__subsample=1; total time=  11.6s\n",
      "[CV] END preprocessor__num__imputer__strategy=mean, regressor__learning_rate=0.3, regressor__max_depth=8, regressor__min_samples_leaf=1, regressor__n_estimators=100, regressor__subsample=1; total time=  11.6s\n",
      "[CV] END preprocessor__num__imputer__strategy=mean, regressor__learning_rate=0.3, regressor__max_depth=8, regressor__min_samples_leaf=1, regressor__n_estimators=100, regressor__subsample=1; total time=  11.6s\n",
      "[CV] END preprocessor__num__imputer__strategy=mean, regressor__learning_rate=0.3, regressor__max_depth=8, regressor__min_samples_leaf=1, regressor__n_estimators=100, regressor__subsample=1; total time=  11.5s\n",
      "[CV] END preprocessor__num__imputer__strategy=mean, regressor__learning_rate=0.15, regressor__max_depth=16, regressor__min_samples_leaf=1, regressor__n_estimators=200, regressor__subsample=1; total time=  44.2s\n",
      "[CV] END preprocessor__num__imputer__strategy=mean, regressor__learning_rate=0.15, regressor__max_depth=16, regressor__min_samples_leaf=1, regressor__n_estimators=200, regressor__subsample=1; total time=  44.7s\n",
      "[CV] END preprocessor__num__imputer__strategy=mean, regressor__learning_rate=0.15, regressor__max_depth=16, regressor__min_samples_leaf=1, regressor__n_estimators=200, regressor__subsample=1; total time=  44.6s\n",
      "[CV] END preprocessor__num__imputer__strategy=mean, regressor__learning_rate=0.15, regressor__max_depth=16, regressor__min_samples_leaf=1, regressor__n_estimators=200, regressor__subsample=1; total time=  44.8s\n",
      "[CV] END preprocessor__num__imputer__strategy=mean, regressor__learning_rate=0.15, regressor__max_depth=16, regressor__min_samples_leaf=1, regressor__n_estimators=200, regressor__subsample=1; total time=  44.5s\n",
      "[CV] END preprocessor__num__imputer__strategy=mean, regressor__learning_rate=0.2, regressor__max_depth=16, regressor__min_samples_leaf=1, regressor__n_estimators=200, regressor__subsample=1; total time=  45.5s\n",
      "[CV] END preprocessor__num__imputer__strategy=mean, regressor__learning_rate=0.2, regressor__max_depth=16, regressor__min_samples_leaf=1, regressor__n_estimators=200, regressor__subsample=1; total time=  44.5s\n",
      "[CV] END preprocessor__num__imputer__strategy=mean, regressor__learning_rate=0.2, regressor__max_depth=16, regressor__min_samples_leaf=1, regressor__n_estimators=200, regressor__subsample=1; total time=  44.4s\n",
      "[CV] END preprocessor__num__imputer__strategy=mean, regressor__learning_rate=0.2, regressor__max_depth=16, regressor__min_samples_leaf=1, regressor__n_estimators=200, regressor__subsample=1; total time=  44.2s\n",
      "[CV] END preprocessor__num__imputer__strategy=mean, regressor__learning_rate=0.2, regressor__max_depth=16, regressor__min_samples_leaf=1, regressor__n_estimators=200, regressor__subsample=1; total time=  44.4s\n",
      "[CV] END preprocessor__num__imputer__strategy=mean, regressor__learning_rate=0.15, regressor__max_depth=4, regressor__min_samples_leaf=1, regressor__n_estimators=175, regressor__subsample=1; total time=  10.6s\n",
      "[CV] END preprocessor__num__imputer__strategy=mean, regressor__learning_rate=0.15, regressor__max_depth=4, regressor__min_samples_leaf=1, regressor__n_estimators=175, regressor__subsample=1; total time=  10.6s\n",
      "[CV] END preprocessor__num__imputer__strategy=mean, regressor__learning_rate=0.15, regressor__max_depth=4, regressor__min_samples_leaf=1, regressor__n_estimators=175, regressor__subsample=1; total time=  10.7s\n",
      "[CV] END preprocessor__num__imputer__strategy=mean, regressor__learning_rate=0.15, regressor__max_depth=4, regressor__min_samples_leaf=1, regressor__n_estimators=175, regressor__subsample=1; total time=  10.6s\n",
      "[CV] END preprocessor__num__imputer__strategy=mean, regressor__learning_rate=0.15, regressor__max_depth=4, regressor__min_samples_leaf=1, regressor__n_estimators=175, regressor__subsample=1; total time=  10.6s\n",
      "[CV] END preprocessor__num__imputer__strategy=mean, regressor__learning_rate=0.25, regressor__max_depth=4, regressor__min_samples_leaf=1, regressor__n_estimators=175, regressor__subsample=1; total time=  10.7s\n",
      "[CV] END preprocessor__num__imputer__strategy=mean, regressor__learning_rate=0.25, regressor__max_depth=4, regressor__min_samples_leaf=1, regressor__n_estimators=175, regressor__subsample=1; total time=  10.6s\n",
      "[CV] END preprocessor__num__imputer__strategy=mean, regressor__learning_rate=0.25, regressor__max_depth=4, regressor__min_samples_leaf=1, regressor__n_estimators=175, regressor__subsample=1; total time=  10.6s\n",
      "[CV] END preprocessor__num__imputer__strategy=mean, regressor__learning_rate=0.25, regressor__max_depth=4, regressor__min_samples_leaf=1, regressor__n_estimators=175, regressor__subsample=1; total time=  10.5s\n",
      "[CV] END preprocessor__num__imputer__strategy=mean, regressor__learning_rate=0.25, regressor__max_depth=4, regressor__min_samples_leaf=1, regressor__n_estimators=175, regressor__subsample=1; total time=  10.7s\n",
      "[CV] END preprocessor__num__imputer__strategy=mean, regressor__learning_rate=0.25, regressor__max_depth=16, regressor__min_samples_leaf=1, regressor__n_estimators=200, regressor__subsample=1; total time=  45.1s\n",
      "[CV] END preprocessor__num__imputer__strategy=mean, regressor__learning_rate=0.25, regressor__max_depth=16, regressor__min_samples_leaf=1, regressor__n_estimators=200, regressor__subsample=1; total time=  44.5s\n",
      "[CV] END preprocessor__num__imputer__strategy=mean, regressor__learning_rate=0.25, regressor__max_depth=16, regressor__min_samples_leaf=1, regressor__n_estimators=200, regressor__subsample=1; total time=  44.7s\n",
      "[CV] END preprocessor__num__imputer__strategy=mean, regressor__learning_rate=0.25, regressor__max_depth=16, regressor__min_samples_leaf=1, regressor__n_estimators=200, regressor__subsample=1; total time=  44.6s\n",
      "[CV] END preprocessor__num__imputer__strategy=mean, regressor__learning_rate=0.25, regressor__max_depth=16, regressor__min_samples_leaf=1, regressor__n_estimators=200, regressor__subsample=1; total time=  44.7s\n",
      "[CV] END preprocessor__num__imputer__strategy=mean, regressor__learning_rate=0.25, regressor__max_depth=16, regressor__min_samples_leaf=1, regressor__n_estimators=175, regressor__subsample=1; total time=  39.0s\n",
      "[CV] END preprocessor__num__imputer__strategy=mean, regressor__learning_rate=0.25, regressor__max_depth=16, regressor__min_samples_leaf=1, regressor__n_estimators=175, regressor__subsample=1; total time=  39.0s\n",
      "[CV] END preprocessor__num__imputer__strategy=mean, regressor__learning_rate=0.25, regressor__max_depth=16, regressor__min_samples_leaf=1, regressor__n_estimators=175, regressor__subsample=1; total time=  39.1s\n",
      "[CV] END preprocessor__num__imputer__strategy=mean, regressor__learning_rate=0.25, regressor__max_depth=16, regressor__min_samples_leaf=1, regressor__n_estimators=175, regressor__subsample=1; total time=  38.9s\n",
      "[CV] END preprocessor__num__imputer__strategy=mean, regressor__learning_rate=0.25, regressor__max_depth=16, regressor__min_samples_leaf=1, regressor__n_estimators=175, regressor__subsample=1; total time=  39.0s\n",
      "[CV] END preprocessor__num__imputer__strategy=mean, regressor__learning_rate=0.2, regressor__max_depth=4, regressor__min_samples_leaf=1, regressor__n_estimators=150, regressor__subsample=1; total time=   9.1s\n",
      "[CV] END preprocessor__num__imputer__strategy=mean, regressor__learning_rate=0.2, regressor__max_depth=4, regressor__min_samples_leaf=1, regressor__n_estimators=150, regressor__subsample=1; total time=   9.0s\n",
      "[CV] END preprocessor__num__imputer__strategy=mean, regressor__learning_rate=0.2, regressor__max_depth=4, regressor__min_samples_leaf=1, regressor__n_estimators=150, regressor__subsample=1; total time=   9.0s\n",
      "[CV] END preprocessor__num__imputer__strategy=mean, regressor__learning_rate=0.2, regressor__max_depth=4, regressor__min_samples_leaf=1, regressor__n_estimators=150, regressor__subsample=1; total time=   9.0s\n",
      "[CV] END preprocessor__num__imputer__strategy=mean, regressor__learning_rate=0.2, regressor__max_depth=4, regressor__min_samples_leaf=1, regressor__n_estimators=150, regressor__subsample=1; total time=   9.1s\n",
      "[CV] END preprocessor__num__imputer__strategy=mean, regressor__learning_rate=0.25, regressor__max_depth=16, regressor__min_samples_leaf=1, regressor__n_estimators=100, regressor__subsample=1; total time=  22.0s\n",
      "[CV] END preprocessor__num__imputer__strategy=mean, regressor__learning_rate=0.25, regressor__max_depth=16, regressor__min_samples_leaf=1, regressor__n_estimators=100, regressor__subsample=1; total time=  22.0s\n",
      "[CV] END preprocessor__num__imputer__strategy=mean, regressor__learning_rate=0.25, regressor__max_depth=16, regressor__min_samples_leaf=1, regressor__n_estimators=100, regressor__subsample=1; total time=  22.0s\n",
      "[CV] END preprocessor__num__imputer__strategy=mean, regressor__learning_rate=0.25, regressor__max_depth=16, regressor__min_samples_leaf=1, regressor__n_estimators=100, regressor__subsample=1; total time=  22.0s\n",
      "[CV] END preprocessor__num__imputer__strategy=mean, regressor__learning_rate=0.25, regressor__max_depth=16, regressor__min_samples_leaf=1, regressor__n_estimators=100, regressor__subsample=1; total time=  22.0s\n",
      "[CV] END preprocessor__num__imputer__strategy=mean, regressor__learning_rate=0.3, regressor__max_depth=16, regressor__min_samples_leaf=1, regressor__n_estimators=125, regressor__subsample=1; total time=  27.8s\n",
      "[CV] END preprocessor__num__imputer__strategy=mean, regressor__learning_rate=0.3, regressor__max_depth=16, regressor__min_samples_leaf=1, regressor__n_estimators=125, regressor__subsample=1; total time=  27.7s\n",
      "[CV] END preprocessor__num__imputer__strategy=mean, regressor__learning_rate=0.3, regressor__max_depth=16, regressor__min_samples_leaf=1, regressor__n_estimators=125, regressor__subsample=1; total time=  27.8s\n",
      "[CV] END preprocessor__num__imputer__strategy=mean, regressor__learning_rate=0.3, regressor__max_depth=16, regressor__min_samples_leaf=1, regressor__n_estimators=125, regressor__subsample=1; total time=  27.6s\n",
      "[CV] END preprocessor__num__imputer__strategy=mean, regressor__learning_rate=0.3, regressor__max_depth=16, regressor__min_samples_leaf=1, regressor__n_estimators=125, regressor__subsample=1; total time=  27.8s\n",
      "[CV] END preprocessor__num__imputer__strategy=mean, regressor__learning_rate=0.25, regressor__max_depth=8, regressor__min_samples_leaf=1, regressor__n_estimators=150, regressor__subsample=1; total time=  17.5s\n",
      "[CV] END preprocessor__num__imputer__strategy=mean, regressor__learning_rate=0.25, regressor__max_depth=8, regressor__min_samples_leaf=1, regressor__n_estimators=150, regressor__subsample=1; total time=  17.4s\n",
      "[CV] END preprocessor__num__imputer__strategy=mean, regressor__learning_rate=0.25, regressor__max_depth=8, regressor__min_samples_leaf=1, regressor__n_estimators=150, regressor__subsample=1; total time=  17.4s\n",
      "[CV] END preprocessor__num__imputer__strategy=mean, regressor__learning_rate=0.25, regressor__max_depth=8, regressor__min_samples_leaf=1, regressor__n_estimators=150, regressor__subsample=1; total time=  17.3s\n",
      "[CV] END preprocessor__num__imputer__strategy=mean, regressor__learning_rate=0.25, regressor__max_depth=8, regressor__min_samples_leaf=1, regressor__n_estimators=150, regressor__subsample=1; total time=  17.5s\n",
      "[CV] END preprocessor__num__imputer__strategy=mean, regressor__learning_rate=0.2, regressor__max_depth=16, regressor__min_samples_leaf=1, regressor__n_estimators=175, regressor__subsample=1; total time=  38.9s\n",
      "[CV] END preprocessor__num__imputer__strategy=mean, regressor__learning_rate=0.2, regressor__max_depth=16, regressor__min_samples_leaf=1, regressor__n_estimators=175, regressor__subsample=1; total time=  39.1s\n",
      "[CV] END preprocessor__num__imputer__strategy=mean, regressor__learning_rate=0.2, regressor__max_depth=16, regressor__min_samples_leaf=1, regressor__n_estimators=175, regressor__subsample=1; total time=  38.9s\n",
      "[CV] END preprocessor__num__imputer__strategy=mean, regressor__learning_rate=0.2, regressor__max_depth=16, regressor__min_samples_leaf=1, regressor__n_estimators=175, regressor__subsample=1; total time=  38.8s\n",
      "[CV] END preprocessor__num__imputer__strategy=mean, regressor__learning_rate=0.2, regressor__max_depth=16, regressor__min_samples_leaf=1, regressor__n_estimators=175, regressor__subsample=1; total time=  38.9s\n",
      "[CV] END preprocessor__num__imputer__strategy=mean, regressor__learning_rate=0.25, regressor__max_depth=4, regressor__min_samples_leaf=1, regressor__n_estimators=125, regressor__subsample=1; total time=   7.5s\n",
      "[CV] END preprocessor__num__imputer__strategy=mean, regressor__learning_rate=0.25, regressor__max_depth=4, regressor__min_samples_leaf=1, regressor__n_estimators=125, regressor__subsample=1; total time=   7.6s\n",
      "[CV] END preprocessor__num__imputer__strategy=mean, regressor__learning_rate=0.25, regressor__max_depth=4, regressor__min_samples_leaf=1, regressor__n_estimators=125, regressor__subsample=1; total time=   7.5s\n",
      "[CV] END preprocessor__num__imputer__strategy=mean, regressor__learning_rate=0.25, regressor__max_depth=4, regressor__min_samples_leaf=1, regressor__n_estimators=125, regressor__subsample=1; total time=   7.5s\n",
      "[CV] END preprocessor__num__imputer__strategy=mean, regressor__learning_rate=0.25, regressor__max_depth=4, regressor__min_samples_leaf=1, regressor__n_estimators=125, regressor__subsample=1; total time=   7.6s\n",
      "[CV] END preprocessor__num__imputer__strategy=mean, regressor__learning_rate=0.15, regressor__max_depth=8, regressor__min_samples_leaf=1, regressor__n_estimators=125, regressor__subsample=1; total time=  14.4s\n",
      "[CV] END preprocessor__num__imputer__strategy=mean, regressor__learning_rate=0.15, regressor__max_depth=8, regressor__min_samples_leaf=1, regressor__n_estimators=125, regressor__subsample=1; total time=  14.3s\n",
      "[CV] END preprocessor__num__imputer__strategy=mean, regressor__learning_rate=0.15, regressor__max_depth=8, regressor__min_samples_leaf=1, regressor__n_estimators=125, regressor__subsample=1; total time=  14.4s\n",
      "[CV] END preprocessor__num__imputer__strategy=mean, regressor__learning_rate=0.15, regressor__max_depth=8, regressor__min_samples_leaf=1, regressor__n_estimators=125, regressor__subsample=1; total time=  14.2s\n",
      "[CV] END preprocessor__num__imputer__strategy=mean, regressor__learning_rate=0.15, regressor__max_depth=8, regressor__min_samples_leaf=1, regressor__n_estimators=125, regressor__subsample=1; total time=  14.2s\n",
      "[CV] END preprocessor__num__imputer__strategy=mean, regressor__learning_rate=0.3, regressor__max_depth=4, regressor__min_samples_leaf=1, regressor__n_estimators=175, regressor__subsample=1; total time=  10.5s\n",
      "[CV] END preprocessor__num__imputer__strategy=mean, regressor__learning_rate=0.3, regressor__max_depth=4, regressor__min_samples_leaf=1, regressor__n_estimators=175, regressor__subsample=1; total time=  10.5s\n",
      "[CV] END preprocessor__num__imputer__strategy=mean, regressor__learning_rate=0.3, regressor__max_depth=4, regressor__min_samples_leaf=1, regressor__n_estimators=175, regressor__subsample=1; total time=  10.5s\n",
      "[CV] END preprocessor__num__imputer__strategy=mean, regressor__learning_rate=0.3, regressor__max_depth=4, regressor__min_samples_leaf=1, regressor__n_estimators=175, regressor__subsample=1; total time=  10.5s\n",
      "[CV] END preprocessor__num__imputer__strategy=mean, regressor__learning_rate=0.3, regressor__max_depth=4, regressor__min_samples_leaf=1, regressor__n_estimators=175, regressor__subsample=1; total time=  10.5s\n",
      "[CV] END preprocessor__num__imputer__strategy=mean, regressor__learning_rate=0.15, regressor__max_depth=4, regressor__min_samples_leaf=1, regressor__n_estimators=200, regressor__subsample=1; total time=  12.0s\n",
      "[CV] END preprocessor__num__imputer__strategy=mean, regressor__learning_rate=0.15, regressor__max_depth=4, regressor__min_samples_leaf=1, regressor__n_estimators=200, regressor__subsample=1; total time=  12.0s\n",
      "[CV] END preprocessor__num__imputer__strategy=mean, regressor__learning_rate=0.15, regressor__max_depth=4, regressor__min_samples_leaf=1, regressor__n_estimators=200, regressor__subsample=1; total time=  12.0s\n",
      "[CV] END preprocessor__num__imputer__strategy=mean, regressor__learning_rate=0.15, regressor__max_depth=4, regressor__min_samples_leaf=1, regressor__n_estimators=200, regressor__subsample=1; total time=  12.1s\n",
      "[CV] END preprocessor__num__imputer__strategy=mean, regressor__learning_rate=0.15, regressor__max_depth=4, regressor__min_samples_leaf=1, regressor__n_estimators=200, regressor__subsample=1; total time=  12.0s\n",
      "[CV] END preprocessor__num__imputer__strategy=mean, regressor__learning_rate=0.25, regressor__max_depth=8, regressor__min_samples_leaf=1, regressor__n_estimators=175, regressor__subsample=1; total time=  20.3s\n",
      "[CV] END preprocessor__num__imputer__strategy=mean, regressor__learning_rate=0.25, regressor__max_depth=8, regressor__min_samples_leaf=1, regressor__n_estimators=175, regressor__subsample=1; total time=  20.2s\n",
      "[CV] END preprocessor__num__imputer__strategy=mean, regressor__learning_rate=0.25, regressor__max_depth=8, regressor__min_samples_leaf=1, regressor__n_estimators=175, regressor__subsample=1; total time=  20.3s\n",
      "[CV] END preprocessor__num__imputer__strategy=mean, regressor__learning_rate=0.25, regressor__max_depth=8, regressor__min_samples_leaf=1, regressor__n_estimators=175, regressor__subsample=1; total time=  20.2s\n",
      "[CV] END preprocessor__num__imputer__strategy=mean, regressor__learning_rate=0.25, regressor__max_depth=8, regressor__min_samples_leaf=1, regressor__n_estimators=175, regressor__subsample=1; total time=  20.3s\n",
      "[CV] END preprocessor__num__imputer__strategy=mean, regressor__learning_rate=0.3, regressor__max_depth=4, regressor__min_samples_leaf=1, regressor__n_estimators=100, regressor__subsample=1; total time=   6.0s\n",
      "[CV] END preprocessor__num__imputer__strategy=mean, regressor__learning_rate=0.3, regressor__max_depth=4, regressor__min_samples_leaf=1, regressor__n_estimators=100, regressor__subsample=1; total time=   6.1s\n",
      "[CV] END preprocessor__num__imputer__strategy=mean, regressor__learning_rate=0.3, regressor__max_depth=4, regressor__min_samples_leaf=1, regressor__n_estimators=100, regressor__subsample=1; total time=   6.1s\n",
      "[CV] END preprocessor__num__imputer__strategy=mean, regressor__learning_rate=0.3, regressor__max_depth=4, regressor__min_samples_leaf=1, regressor__n_estimators=100, regressor__subsample=1; total time=   6.1s\n",
      "[CV] END preprocessor__num__imputer__strategy=mean, regressor__learning_rate=0.3, regressor__max_depth=4, regressor__min_samples_leaf=1, regressor__n_estimators=100, regressor__subsample=1; total time=   6.1s\n",
      "[CV] END preprocessor__num__imputer__strategy=mean, regressor__learning_rate=0.25, regressor__max_depth=4, regressor__min_samples_leaf=1, regressor__n_estimators=150, regressor__subsample=1; total time=   9.0s\n",
      "[CV] END preprocessor__num__imputer__strategy=mean, regressor__learning_rate=0.25, regressor__max_depth=4, regressor__min_samples_leaf=1, regressor__n_estimators=150, regressor__subsample=1; total time=   9.1s\n",
      "[CV] END preprocessor__num__imputer__strategy=mean, regressor__learning_rate=0.25, regressor__max_depth=4, regressor__min_samples_leaf=1, regressor__n_estimators=150, regressor__subsample=1; total time=   9.0s\n",
      "[CV] END preprocessor__num__imputer__strategy=mean, regressor__learning_rate=0.25, regressor__max_depth=4, regressor__min_samples_leaf=1, regressor__n_estimators=150, regressor__subsample=1; total time=   9.0s\n",
      "[CV] END preprocessor__num__imputer__strategy=mean, regressor__learning_rate=0.25, regressor__max_depth=4, regressor__min_samples_leaf=1, regressor__n_estimators=150, regressor__subsample=1; total time=   9.0s\n",
      "[CV] END preprocessor__num__imputer__strategy=mean, regressor__learning_rate=0.2, regressor__max_depth=4, regressor__min_samples_leaf=1, regressor__n_estimators=200, regressor__subsample=1; total time=  12.1s\n",
      "[CV] END preprocessor__num__imputer__strategy=mean, regressor__learning_rate=0.2, regressor__max_depth=4, regressor__min_samples_leaf=1, regressor__n_estimators=200, regressor__subsample=1; total time=  12.1s\n",
      "[CV] END preprocessor__num__imputer__strategy=mean, regressor__learning_rate=0.2, regressor__max_depth=4, regressor__min_samples_leaf=1, regressor__n_estimators=200, regressor__subsample=1; total time=  12.0s\n",
      "[CV] END preprocessor__num__imputer__strategy=mean, regressor__learning_rate=0.2, regressor__max_depth=4, regressor__min_samples_leaf=1, regressor__n_estimators=200, regressor__subsample=1; total time=  12.0s\n",
      "[CV] END preprocessor__num__imputer__strategy=mean, regressor__learning_rate=0.2, regressor__max_depth=4, regressor__min_samples_leaf=1, regressor__n_estimators=200, regressor__subsample=1; total time=  12.0s\n",
      "[CV] END preprocessor__num__imputer__strategy=mean, regressor__learning_rate=0.3, regressor__max_depth=8, regressor__min_samples_leaf=1, regressor__n_estimators=150, regressor__subsample=1; total time=  17.5s\n",
      "[CV] END preprocessor__num__imputer__strategy=mean, regressor__learning_rate=0.3, regressor__max_depth=8, regressor__min_samples_leaf=1, regressor__n_estimators=150, regressor__subsample=1; total time=  17.4s\n",
      "[CV] END preprocessor__num__imputer__strategy=mean, regressor__learning_rate=0.3, regressor__max_depth=8, regressor__min_samples_leaf=1, regressor__n_estimators=150, regressor__subsample=1; total time=  17.5s\n",
      "[CV] END preprocessor__num__imputer__strategy=mean, regressor__learning_rate=0.3, regressor__max_depth=8, regressor__min_samples_leaf=1, regressor__n_estimators=150, regressor__subsample=1; total time=  17.5s\n",
      "[CV] END preprocessor__num__imputer__strategy=mean, regressor__learning_rate=0.3, regressor__max_depth=8, regressor__min_samples_leaf=1, regressor__n_estimators=150, regressor__subsample=1; total time=  17.4s\n",
      "[CV] END preprocessor__num__imputer__strategy=mean, regressor__learning_rate=0.25, regressor__max_depth=16, regressor__min_samples_leaf=1, regressor__n_estimators=150, regressor__subsample=1; total time=  33.5s\n",
      "[CV] END preprocessor__num__imputer__strategy=mean, regressor__learning_rate=0.25, regressor__max_depth=16, regressor__min_samples_leaf=1, regressor__n_estimators=150, regressor__subsample=1; total time=  33.3s\n",
      "[CV] END preprocessor__num__imputer__strategy=mean, regressor__learning_rate=0.25, regressor__max_depth=16, regressor__min_samples_leaf=1, regressor__n_estimators=150, regressor__subsample=1; total time=  33.4s\n",
      "[CV] END preprocessor__num__imputer__strategy=mean, regressor__learning_rate=0.25, regressor__max_depth=16, regressor__min_samples_leaf=1, regressor__n_estimators=150, regressor__subsample=1; total time=  33.5s\n",
      "[CV] END preprocessor__num__imputer__strategy=mean, regressor__learning_rate=0.25, regressor__max_depth=16, regressor__min_samples_leaf=1, regressor__n_estimators=150, regressor__subsample=1; total time=  33.6s\n",
      "[CV] END preprocessor__num__imputer__strategy=mean, regressor__learning_rate=0.25, regressor__max_depth=8, regressor__min_samples_leaf=1, regressor__n_estimators=125, regressor__subsample=1; total time=  14.7s\n",
      "[CV] END preprocessor__num__imputer__strategy=mean, regressor__learning_rate=0.25, regressor__max_depth=8, regressor__min_samples_leaf=1, regressor__n_estimators=125, regressor__subsample=1; total time=  14.6s\n",
      "[CV] END preprocessor__num__imputer__strategy=mean, regressor__learning_rate=0.25, regressor__max_depth=8, regressor__min_samples_leaf=1, regressor__n_estimators=125, regressor__subsample=1; total time=  14.7s\n",
      "[CV] END preprocessor__num__imputer__strategy=mean, regressor__learning_rate=0.25, regressor__max_depth=8, regressor__min_samples_leaf=1, regressor__n_estimators=125, regressor__subsample=1; total time=  14.6s\n",
      "[CV] END preprocessor__num__imputer__strategy=mean, regressor__learning_rate=0.25, regressor__max_depth=8, regressor__min_samples_leaf=1, regressor__n_estimators=125, regressor__subsample=1; total time=  14.7s\n",
      "[CV] END preprocessor__num__imputer__strategy=mean, regressor__learning_rate=0.15, regressor__max_depth=16, regressor__min_samples_leaf=1, regressor__n_estimators=125, regressor__subsample=1; total time=  27.4s\n",
      "[CV] END preprocessor__num__imputer__strategy=mean, regressor__learning_rate=0.15, regressor__max_depth=16, regressor__min_samples_leaf=1, regressor__n_estimators=125, regressor__subsample=1; total time=  27.4s\n",
      "[CV] END preprocessor__num__imputer__strategy=mean, regressor__learning_rate=0.15, regressor__max_depth=16, regressor__min_samples_leaf=1, regressor__n_estimators=125, regressor__subsample=1; total time=  27.4s\n",
      "[CV] END preprocessor__num__imputer__strategy=mean, regressor__learning_rate=0.15, regressor__max_depth=16, regressor__min_samples_leaf=1, regressor__n_estimators=125, regressor__subsample=1; total time=  27.3s\n",
      "[CV] END preprocessor__num__imputer__strategy=mean, regressor__learning_rate=0.15, regressor__max_depth=16, regressor__min_samples_leaf=1, regressor__n_estimators=125, regressor__subsample=1; total time=  27.4s\n",
      "[CV] END preprocessor__num__imputer__strategy=mean, regressor__learning_rate=0.25, regressor__max_depth=4, regressor__min_samples_leaf=1, regressor__n_estimators=200, regressor__subsample=1; total time=  12.2s\n",
      "[CV] END preprocessor__num__imputer__strategy=mean, regressor__learning_rate=0.25, regressor__max_depth=4, regressor__min_samples_leaf=1, regressor__n_estimators=200, regressor__subsample=1; total time=  12.1s\n",
      "[CV] END preprocessor__num__imputer__strategy=mean, regressor__learning_rate=0.25, regressor__max_depth=4, regressor__min_samples_leaf=1, regressor__n_estimators=200, regressor__subsample=1; total time=  12.1s\n",
      "[CV] END preprocessor__num__imputer__strategy=mean, regressor__learning_rate=0.25, regressor__max_depth=4, regressor__min_samples_leaf=1, regressor__n_estimators=200, regressor__subsample=1; total time=  12.2s\n",
      "[CV] END preprocessor__num__imputer__strategy=mean, regressor__learning_rate=0.25, regressor__max_depth=4, regressor__min_samples_leaf=1, regressor__n_estimators=200, regressor__subsample=1; total time=  12.2s\n",
      "[CV] END preprocessor__num__imputer__strategy=mean, regressor__learning_rate=0.3, regressor__max_depth=16, regressor__min_samples_leaf=1, regressor__n_estimators=175, regressor__subsample=1; total time=  39.3s\n",
      "[CV] END preprocessor__num__imputer__strategy=mean, regressor__learning_rate=0.3, regressor__max_depth=16, regressor__min_samples_leaf=1, regressor__n_estimators=175, regressor__subsample=1; total time=  39.4s\n",
      "[CV] END preprocessor__num__imputer__strategy=mean, regressor__learning_rate=0.3, regressor__max_depth=16, regressor__min_samples_leaf=1, regressor__n_estimators=175, regressor__subsample=1; total time=  39.6s\n",
      "[CV] END preprocessor__num__imputer__strategy=mean, regressor__learning_rate=0.3, regressor__max_depth=16, regressor__min_samples_leaf=1, regressor__n_estimators=175, regressor__subsample=1; total time=  39.0s\n",
      "[CV] END preprocessor__num__imputer__strategy=mean, regressor__learning_rate=0.3, regressor__max_depth=16, regressor__min_samples_leaf=1, regressor__n_estimators=175, regressor__subsample=1; total time=  39.1s\n",
      "[CV] END preprocessor__num__imputer__strategy=mean, regressor__learning_rate=0.15, regressor__max_depth=4, regressor__min_samples_leaf=1, regressor__n_estimators=100, regressor__subsample=1; total time=   6.0s\n",
      "[CV] END preprocessor__num__imputer__strategy=mean, regressor__learning_rate=0.15, regressor__max_depth=4, regressor__min_samples_leaf=1, regressor__n_estimators=100, regressor__subsample=1; total time=   6.1s\n",
      "[CV] END preprocessor__num__imputer__strategy=mean, regressor__learning_rate=0.15, regressor__max_depth=4, regressor__min_samples_leaf=1, regressor__n_estimators=100, regressor__subsample=1; total time=   6.4s\n",
      "[CV] END preprocessor__num__imputer__strategy=mean, regressor__learning_rate=0.15, regressor__max_depth=4, regressor__min_samples_leaf=1, regressor__n_estimators=100, regressor__subsample=1; total time=   6.0s\n",
      "[CV] END preprocessor__num__imputer__strategy=mean, regressor__learning_rate=0.15, regressor__max_depth=4, regressor__min_samples_leaf=1, regressor__n_estimators=100, regressor__subsample=1; total time=   6.1s\n",
      "[CV] END preprocessor__num__imputer__strategy=mean, regressor__learning_rate=0.15, regressor__max_depth=16, regressor__min_samples_leaf=1, regressor__n_estimators=150, regressor__subsample=1; total time=  32.6s\n",
      "[CV] END preprocessor__num__imputer__strategy=mean, regressor__learning_rate=0.15, regressor__max_depth=16, regressor__min_samples_leaf=1, regressor__n_estimators=150, regressor__subsample=1; total time=  32.7s\n",
      "[CV] END preprocessor__num__imputer__strategy=mean, regressor__learning_rate=0.15, regressor__max_depth=16, regressor__min_samples_leaf=1, regressor__n_estimators=150, regressor__subsample=1; total time=  32.7s\n",
      "[CV] END preprocessor__num__imputer__strategy=mean, regressor__learning_rate=0.15, regressor__max_depth=16, regressor__min_samples_leaf=1, regressor__n_estimators=150, regressor__subsample=1; total time=  32.6s\n",
      "[CV] END preprocessor__num__imputer__strategy=mean, regressor__learning_rate=0.15, regressor__max_depth=16, regressor__min_samples_leaf=1, regressor__n_estimators=150, regressor__subsample=1; total time=  32.7s\n"
     ]
    },
    {
     "data": {
      "text/plain": [
       "RandomizedSearchCV(cv=5,\n",
       "                   estimator=Pipeline(steps=[('preprocessor',\n",
       "                                              ColumnTransformer(transformers=[('num',\n",
       "                                                                               Pipeline(steps=[('imputer',\n",
       "                                                                                                SimpleImputer(strategy='median')),\n",
       "                                                                                               ('scaler',\n",
       "                                                                                                StandardScaler())]),\n",
       "                                                                               ['carat',\n",
       "                                                                                'depth',\n",
       "                                                                                'table',\n",
       "                                                                                'x',\n",
       "                                                                                'y',\n",
       "                                                                                'z']),\n",
       "                                                                              ('cat',\n",
       "                                                                               Pipeline(steps=[('imputer',\n",
       "                                                                                                SimpleImputer(fill_value='missing',\n",
       "                                                                                                              strategy='constant')),\n",
       "                                                                                               ('onehot',\n",
       "                                                                                                OneHotEncoder(...\n",
       "                                             ('regressor',\n",
       "                                              GradientBoostingRegressor())]),\n",
       "                   n_iter=32,\n",
       "                   param_distributions={'preprocessor__num__imputer__strategy': ['mean'],\n",
       "                                        'regressor__learning_rate': [0.15, 0.2,\n",
       "                                                                     0.25,\n",
       "                                                                     0.3],\n",
       "                                        'regressor__max_depth': [4, 8, 16],\n",
       "                                        'regressor__min_samples_leaf': [1],\n",
       "                                        'regressor__n_estimators': [100, 125,\n",
       "                                                                    150, 175,\n",
       "                                                                    200],\n",
       "                                        'regressor__subsample': [1]},\n",
       "                   scoring='neg_root_mean_squared_error', verbose=2)"
      ]
     },
     "execution_count": 42,
     "metadata": {},
     "output_type": "execute_result"
    }
   ],
   "source": [
    "param_grid = {\n",
    "    'preprocessor__num__imputer__strategy': ['mean'],\n",
    "    'regressor__learning_rate': [0.2],\n",
    "    'regressor__learning_rate': [0.15,0.2, 0.25, 0.3],\n",
    "    'regressor__n_estimators': [100,125, 150, 175, 200],\n",
    "    'regressor__max_depth': [4, 8, 16],\n",
    "    'regressor__subsample': [1] ,\n",
    "    'regressor__min_samples_leaf': [1] \n",
    "}\n",
    "\n",
    "grid_search = RandomizedSearchCV(model, \n",
    "                                 param_grid, \n",
    "                                 cv=5, \n",
    "                                 verbose=2, \n",
    "                                 scoring='neg_root_mean_squared_error', \n",
    "                                 #n_jobs=-1,\n",
    "                                 n_iter=32)\n",
    "\n",
    "grid_search.fit(X, y)"
   ]
  },
  {
   "cell_type": "code",
   "execution_count": 43,
   "metadata": {},
   "outputs": [
    {
     "data": {
      "text/plain": [
       "{'regressor__subsample': 1,\n",
       " 'regressor__n_estimators': 125,\n",
       " 'regressor__min_samples_leaf': 1,\n",
       " 'regressor__max_depth': 8,\n",
       " 'regressor__learning_rate': 0.15,\n",
       " 'preprocessor__num__imputer__strategy': 'mean'}"
      ]
     },
     "execution_count": 43,
     "metadata": {},
     "output_type": "execute_result"
    }
   ],
   "source": [
    "grid_search.best_params_"
   ]
  },
  {
   "cell_type": "code",
   "execution_count": 44,
   "metadata": {},
   "outputs": [
    {
     "data": {
      "text/plain": [
       "549.977089446955"
      ]
     },
     "execution_count": 44,
     "metadata": {},
     "output_type": "execute_result"
    }
   ],
   "source": [
    "-grid_search.best_score_"
   ]
  },
  {
   "cell_type": "markdown",
   "metadata": {},
   "source": [
    "# **Submission**"
   ]
  },
  {
   "cell_type": "code",
   "execution_count": 45,
   "metadata": {},
   "outputs": [],
   "source": [
    "y_pred = grid_search.predict(test[features])\n",
    "submission_df = pd.DataFrame({'id': test['id'], 'price': y_pred})\n",
    "submission_df.head()\n",
    "submission_df.to_csv('submission_GBM_grid.csv', index=False)"
   ]
  }
 ],
 "metadata": {
  "kernelspec": {
   "display_name": "Python 3",
   "language": "python",
   "name": "python3"
  },
  "language_info": {
   "codemirror_mode": {
    "name": "ipython",
    "version": 3
   },
   "file_extension": ".py",
   "mimetype": "text/x-python",
   "name": "python",
   "nbconvert_exporter": "python",
   "pygments_lexer": "ipython3",
   "version": "3.8.5"
  }
 },
 "nbformat": 4,
 "nbformat_minor": 4
}
